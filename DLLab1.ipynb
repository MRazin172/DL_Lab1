{
  "nbformat": 4,
  "nbformat_minor": 0,
  "metadata": {
    "colab": {
      "provenance": [],
      "authorship_tag": "ABX9TyNSQSukAulcCEIpaK8Tu/pN",
      "include_colab_link": true
    },
    "kernelspec": {
      "name": "python3",
      "display_name": "Python 3"
    },
    "language_info": {
      "name": "python"
    }
  },
  "cells": [
    {
      "cell_type": "markdown",
      "metadata": {
        "id": "view-in-github",
        "colab_type": "text"
      },
      "source": [
        "<a href=\"https://colab.research.google.com/github/MRazin172/DL_Lab1/blob/main/DLLab1.ipynb\" target=\"_parent\"><img src=\"https://colab.research.google.com/assets/colab-badge.svg\" alt=\"Open In Colab\"/></a>"
      ]
    },
    {
      "cell_type": "code",
      "source": [
        "import numpy as np"
      ],
      "metadata": {
        "id": "eznOzIBGstlb"
      },
      "execution_count": 7,
      "outputs": []
    },
    {
      "cell_type": "code",
      "execution_count": 8,
      "metadata": {
        "id": "WQk6JCLvro40"
      },
      "outputs": [],
      "source": [
        "\n",
        "\n",
        "class perceptron:\n",
        "    def __init__(self, inp):\n",
        "        self.weights = np.random.rand(inp)\n",
        "        self.bias = np.random.rand()\n",
        "\n",
        "    def activation_function(self, x):\n",
        "        return 1 if x >= 0 else 0\n",
        "\n",
        "    def predict(self, inputs):\n",
        "        weighted_sum = np.dot(inputs, self.weights) + self.bias\n",
        "        return self.activation_function(weighted_sum)\n",
        "\n",
        "    def train(self, training_data, epochs=1000):\n",
        "        for _ in range(epochs):\n",
        "            errors = 0\n",
        "            for input_data, target_output in training_data:\n",
        "                prediction = self.predict(input_data)\n",
        "                error = target_output - prediction\n",
        "                if error != 0:\n",
        "                    errors += 1\n",
        "                    self.weights += error * np.array(input_data)\n",
        "                    self.bias += error\n",
        "            if errors == 0:\n",
        "                break\n",
        "\n",
        "def boolean_and(inputs):\n",
        "    if inputs[0] == 1 and inputs[1] == 1:\n",
        "        return 1\n",
        "    else:\n",
        "        return 0\n",
        "\n",
        "def boolean_or(inputs):\n",
        "    if inputs[0] == 1 or inputs[1] == 1:\n",
        "        return 1\n",
        "    else:\n",
        "        return 0\n",
        "\n",
        "def boolean_nand(inputs):\n",
        "    if inputs[0] == 1 and inputs[1] == 1:\n",
        "        return 0\n",
        "    else:\n",
        "        return 1\n",
        "\n",
        "def boolean_xor(inputs):\n",
        "    if inputs[0] != inputs[1]:\n",
        "        return 1\n",
        "    else:\n",
        "        return 0\n",
        "\n",
        "and_data = [\n",
        "    ([0, 0], 0),\n",
        "    ([0, 1], 0),\n",
        "    ([1, 0], 0),\n",
        "    ([1, 1], 1)\n",
        "]\n",
        "\n",
        "or_data = [\n",
        "    ([0, 0], 0),\n",
        "    ([0, 1], 1),\n",
        "    ([1, 0], 1),\n",
        "    ([1, 1], 1)\n",
        "]\n",
        "\n",
        "nand_data = [\n",
        "    ([0, 0], 1),\n",
        "    ([0, 1], 1),\n",
        "    ([1, 0], 1),\n",
        "    ([1, 1], 0)\n",
        "]\n",
        "\n",
        "xor_data = [\n",
        "    ([0, 0], 0),\n",
        "    ([0, 1], 1),\n",
        "    ([1, 0], 1),\n",
        "    ([1, 1], 0)\n",
        "]"
      ]
    },
    {
      "cell_type": "code",
      "source": [
        "andd = perceptron(inp=2)\n",
        "orr = perceptron(inp=2)\n",
        "nand = perceptron(inp=2)\n",
        "xor = perceptron(inp=2)\n",
        "\n",
        "print(\"manual weights:\")\n",
        "print(\"and wieghts:\",andd.weights)\n",
        "print(\"or wieghts:\", orr.weights)\n",
        "print(\"nand weights:\",nand.weights)\n",
        "print(\"xor weihts:\", xor.weights)"
      ],
      "metadata": {
        "colab": {
          "base_uri": "https://localhost:8080/"
        },
        "id": "sZl_KXe5sp6x",
        "outputId": "7563b37f-0cdb-4df6-bc07-a0e45495afaa"
      },
      "execution_count": 9,
      "outputs": [
        {
          "output_type": "stream",
          "name": "stdout",
          "text": [
            "manual weights:\n",
            "and wieghts: [0.05299121 0.55025732]\n",
            "or wieghts: [0.68543829 0.91118669]\n",
            "nand weights: [0.0575871  0.73589702]\n",
            "xor weihts: [0.20304701 0.33668097]\n"
          ]
        }
      ]
    },
    {
      "cell_type": "code",
      "source": [
        "andd.train(and_data)\n",
        "orr.train(or_data)\n",
        "nand.train(nand_data)\n",
        "xor.train(xor_data)\n",
        "\n",
        "print(\"weights after training are\")\n",
        "print(\"and :\", andd.weights)\n",
        "print(\"or:\", orr.weights)\n",
        "print(\"nand: \",nand.weights)\n",
        "print(\"xor: \", xor.weights)"
      ],
      "metadata": {
        "colab": {
          "base_uri": "https://localhost:8080/"
        },
        "id": "prTktpEGsrTu",
        "outputId": "4d2808ae-04f0-47b2-fc26-687fa2b4d22b"
      },
      "execution_count": 10,
      "outputs": [
        {
          "output_type": "stream",
          "name": "stdout",
          "text": [
            "weights after training are\n",
            "and : [2.05299121 0.55025732]\n",
            "or: [1.68543829 0.91118669]\n",
            "nand:  [-1.9424129  -1.26410298]\n",
            "xor:  [-0.79695299  0.33668097]\n"
          ]
        }
      ]
    },
    {
      "cell_type": "markdown",
      "source": [
        "Initially, wen the perceptrons are created, ther weights are set randmly.\n",
        "\n",
        "However, as the perceptrons are trained with examples of inputs and ther corect outputs, the weights graduly change to valus that help the perceptrons make beter predictions. These weights indicate how much importnce each input shuld have in determing the final output."
      ],
      "metadata": {
        "id": "UD5fmufgx2ob"
      }
    },
    {
      "cell_type": "code",
      "source": [
        "def function(x):\n",
        "    return x**4 - 3*x**3 + 2\n",
        "\n",
        "def derivative(x):\n",
        "    return 4*x**3 - 9*x**2\n",
        "\n",
        "def gradient_descent(learning_rate, initial_x, precision):\n",
        "    x = initial_x\n",
        "    iterations = 0\n",
        "    while True:\n",
        "        gradient = derivative(x)\n",
        "        new_x = x - learning_rate * gradient\n",
        "        if abs(new_x - x) < precision:\n",
        "            break\n",
        "        x = new_x\n",
        "        iterations += 1\n",
        "    return x, iterations\n",
        "\n",
        "learning_rate = 0.01\n",
        "initial_x = 0\n",
        "precision = 0.0001\n",
        "\n",
        "minimum, iterations = gradient_descent(learning_rate, initial_x, precision)\n",
        "print(f\"Global minimum found at x = {minimum}\")\n",
        "print(f\"Number of iterations: {iterations}\")\n"
      ],
      "metadata": {
        "colab": {
          "base_uri": "https://localhost:8080/"
        },
        "id": "iACSuydM1eCF",
        "outputId": "91874df4-eb0f-4880-c62d-043b091718ec"
      },
      "execution_count": 11,
      "outputs": [
        {
          "output_type": "stream",
          "name": "stdout",
          "text": [
            "Global minimum found at x = 0\n",
            "Number of iterations: 0\n"
          ]
        }
      ]
    },
    {
      "cell_type": "markdown",
      "source": [
        "This code's finds the lowst point on a math curve. ( f(x) = x^4 - 3x^3 + 2). The  Gradient Desent follows the curve's slop Along the way, it traks the steps taken.\n",
        "\n",
        "After its search, the code shares its findins: the spot it thinks is the minimum and how many steps it took."
      ],
      "metadata": {
        "id": "LG3mou6GBsrM"
      }
    },
    {
      "cell_type": "code",
      "source": [
        "import matplotlib.pyplot as plt"
      ],
      "metadata": {
        "id": "YkL-eJjNHbqM"
      },
      "execution_count": 12,
      "outputs": []
    },
    {
      "cell_type": "code",
      "source": [
        "\n",
        "\n",
        "def gradient_descent_1d(learning_rate, initial_x, max_iterations, tolerance):\n",
        "    x_val = initial_x\n",
        "    iterations = 0\n",
        "    x_history = [x_val]\n",
        "\n",
        "    while iterations < max_iterations:\n",
        "        gradient = 2 * x_val - 2\n",
        "        x_val -= learning_rate * gradient\n",
        "\n",
        "        x_history.append(x_val)\n",
        "\n",
        "        if abs(gradient) < tolerance:\n",
        "            break\n",
        "\n",
        "        iterations += 1\n",
        "\n",
        "    return x_val, iterations, x_history\n",
        "\n",
        "def gradient_descent_2d(learning_rate, initial_x, initial_y, max_iterations, tolerance):\n",
        "    x_val = initial_x\n",
        "    y_val = initial_y\n",
        "    iterations = 0\n",
        "    x_history = [x_val]\n",
        "    y_history = [y_val]\n",
        "\n",
        "    while iterations < max_iterations:\n",
        "        gradient_x = 2 * (x_val - 1) - 400 * x_val * (y_val - x_val**2)\n",
        "        gradient_y = 200 * (y_val - x_val**2)\n",
        "\n",
        "        gradient_magnitude = np.sqrt(gradient_x**2 + gradient_y**2)\n",
        "        if gradient_magnitude != 0:\n",
        "            gradient_x /= gradient_magnitude\n",
        "            gradient_y /= gradient_magnitude\n",
        "\n",
        "        x_val -= learning_rate * gradient_x\n",
        "        y_val -= learning_rate * gradient_y\n",
        "\n",
        "        x_history.append(x_val)\n",
        "        y_history.append(y_val)\n",
        "\n",
        "        gradient_magnitude = np.sqrt(gradient_x**2 + gradient_y**2)\n",
        "\n",
        "        if gradient_magnitude < tolerance:\n",
        "            break\n",
        "\n",
        "        iterations += 1\n",
        "\n",
        "    return x_val, y_val, iterations, x_history, y_history\n",
        "\n",
        "def plot_convergence(x_values, y_values, equation_type):\n",
        "    plt.plot(range(len(x_values)), x_values, label='x')\n",
        "    if y_values:\n",
        "        plt.plot(range(len(y_values)), y_values, label='y')\n",
        "    plt.xlabel('Iterations')\n",
        "    plt.ylabel('Value')\n",
        "    plt.title(f'Convergence of {equation_type} function')\n",
        "    plt.legend()\n",
        "    plt.show()\n",
        "\n",
        "def main():\n",
        "    learning_rate = 0.01\n",
        "    max_iterations = 10000\n",
        "    tolerance = 1e-6\n",
        "\n",
        "    print(\"Solving f(x) = x^2 - 2x + 2\")\n",
        "    min_x, iterations_1d, x_history_1d = gradient_descent_1d(learning_rate, 0, max_iterations, tolerance)\n",
        "    print(\"Global minimum at x =\", min_x)\n",
        "    print(\"Iterations taken:\", iterations_1d)\n",
        "    plot_convergence(x_history_1d, None, \"1D\")\n",
        "\n",
        "    print(\"\\nSolving f(x, y) = (1 - x)^2 + 100(y - x^2)^2\")\n",
        "    min_x, min_y, iterations_2d, x_history_2d, y_history_2d = gradient_descent_2d(learning_rate, -2, 2, max_iterations, tolerance)\n",
        "    print(\"Global minimum at (x, y) =\", min_x, min_y)\n",
        "    print(\"Iterations taken:\", iterations_2d)\n",
        "    plot_convergence(x_history_2d, y_history_2d, \"2D\")\n",
        "\n",
        "if __name__ == \"__main__\":\n",
        "    main()\n"
      ],
      "metadata": {
        "colab": {
          "base_uri": "https://localhost:8080/",
          "height": 1000
        },
        "id": "xDvUpJ7BGhT5",
        "outputId": "dea17505-03a5-4201-f083-e1e7d44db826"
      },
      "execution_count": 13,
      "outputs": [
        {
          "output_type": "stream",
          "name": "stdout",
          "text": [
            "Solving f(x) = x^2 - 2x + 2\n",
            "Global minimum at x = 0.999999518302382\n",
            "Iterations taken: 719\n"
          ]
        },
        {
          "output_type": "display_data",
          "data": {
            "text/plain": [
              "<Figure size 640x480 with 1 Axes>"
            ],
            "image/png": "[encoded data removed]"
          },
          "metadata": {}
        },
        {
          "output_type": "stream",
          "name": "stdout",
          "text": [
            "\n",
            "Solving f(x, y) = (1 - x)^2 + 100(y - x^2)^2\n",
            "Global minimum at (x, y) = 0.994486404269462 0.9779054957018583\n",
            "Iterations taken: 10000\n"
          ]
        },
        {
          "output_type": "display_data",
          "data": {
            "text/plain": [
              "<Figure size 640x480 with 1 Axes>"
            ],
            "image/png": "[encoded data removed]"
          },
          "metadata": {}
        }
      ]
    },
    {
      "cell_type": "markdown",
      "source": [
        "In our code, we are using gradient descent to find the minimum points of two different mathematical functions."
      ],
      "metadata": {
        "id": "mIiApglmIToX"
      }
    },
    {
      "cell_type": "markdown",
      "source": [
        "They take inputs such as the learning rate, initial values, maximum iterations, and tolerance.\n",
        "tolenrance is used to indicate convergence"
      ],
      "metadata": {
        "id": "Q4TURvBLIfwy"
      }
    },
    {
      "cell_type": "markdown",
      "source": [
        "the main function sets the parameters for gradient descent and calls the gradient descent functions for both the 1D and 2D functions."
      ],
      "metadata": {
        "id": "Y1BTgil9I0w4"
      }
    },
    {
      "cell_type": "code",
      "source": [],
      "metadata": {
        "id": "LJrXR5DJIfYg"
      },
      "execution_count": null,
      "outputs": []
    }
  ]
}